{
 "cells": [
  {
   "cell_type": "markdown",
   "metadata": {},
   "source": [
    "# Rzadkie wektory i macierze"
   ]
  },
  {
   "cell_type": "markdown",
   "metadata": {},
   "source": [
    "## Zadania\n",
    "* zaimplementować struktury danych przechowujące rzadkie wektory i macierze (format dowolny)\n",
    "* zaimplementować podstawowe operacje na wektorach (dodawanie, mnożenie przez skalar, przez wektor)\n",
    "* zaimplementować podstawowe operacje ma macierzach (dodawanie, mnożenie przez skalar, przez wektor, przez macierz)"
   ]
  },
  {
   "cell_type": "code",
   "execution_count": 2,
   "metadata": {},
   "outputs": [],
   "source": [
    "import numpy as np\n",
    "import scipy.sparse as sp\n",
    "import matplotlib.pyplot as plt"
   ]
  },
  {
   "cell_type": "markdown",
   "metadata": {},
   "source": [
    "#### Rzadkie macierze"
   ]
  },
  {
   "cell_type": "code",
   "execution_count": 7,
   "metadata": {},
   "outputs": [
    {
     "data": {
      "text/plain": [
       "(array([[0],\n",
       "        [1]], dtype=int8), array([[0],\n",
       "        [2]], dtype=int8), array([[ 5.],\n",
       "        [10.]]))"
      ]
     },
     "execution_count": 7,
     "metadata": {},
     "output_type": "execute_result"
    }
   ],
   "source": [
    "def toSparseMatrix(A, x_dim, y_dim, nnz):\n",
    "    I = np.zeros(dtype=np.int8, shape=(nnz, 1))\n",
    "    J = np.zeros(dtype=np.int8, shape=(nnz, 1))\n",
    "    V = np.zeros(shape=(nnz, 1))\n",
    "    index = 0\n",
    "    for i in range(x_dim):\n",
    "        for j in range(y_dim):\n",
    "            if A[i][j] != 0:\n",
    "                I[index] = i\n",
    "                J[index] = j\n",
    "                V[index] = A[i][j]\n",
    "                index += 1\n",
    "    return (I, J, V)\n",
    "\n",
    "\n",
    "sparse_matrix = np.zeros(shape=(2, 3))\n",
    "sparse_matrix[0][0] = 5\n",
    "sparse_matrix[1][2] = 10\n",
    "toSparseMatrix(A, 2, 3, 2)"
   ]
  },
  {
   "cell_type": "markdown",
   "metadata": {},
   "source": [
    "#### Rzadkie wektory"
   ]
  },
  {
   "cell_type": "code",
   "execution_count": 6,
   "metadata": {},
   "outputs": [
    {
     "data": {
      "text/plain": [
       "(array([[0],\n",
       "        [1]], dtype=int8), array([[ 5.],\n",
       "        [10.]]))"
      ]
     },
     "execution_count": 6,
     "metadata": {},
     "output_type": "execute_result"
    }
   ],
   "source": [
    "def toSparseVector(A, x_dim, nnz):\n",
    "    I = np.zeros(dtype=np.int8, shape=(nnz, 1))\n",
    "    V = np.zeros(shape=(nnz, 1))\n",
    "    index = 0\n",
    "    for i in range(x_dim):\n",
    "        if A[i] != 0:\n",
    "            I[index] = i\n",
    "            V[index] = A[i]\n",
    "            index += 1\n",
    "    return (I, V)\n",
    "\n",
    "sparse_vector = np.zeros(shape=(4, 1))\n",
    "sparse_vector[0] = 5\n",
    "sparse_vector[1] = 10\n",
    "toSparseVector(sparse_vector, 4, 2)"
   ]
  },
  {
   "cell_type": "markdown",
   "metadata": {},
   "source": [
    "#### Mnożenie macierzy przez skalar"
   ]
  },
  {
   "cell_type": "code",
   "execution_count": 10,
   "metadata": {},
   "outputs": [
    {
     "data": {
      "text/plain": [
       "(array([[0],\n",
       "        [1]], dtype=int8), array([[0],\n",
       "        [2]], dtype=int8), array([[10.],\n",
       "        [20.]]))"
      ]
     },
     "execution_count": 10,
     "metadata": {},
     "output_type": "execute_result"
    }
   ],
   "source": [
    "def multiplyMatrixSparseByScalar(A, nnz, scalar):\n",
    "    (I, J, V) = A\n",
    "    for i in range(nnz):\n",
    "        V[i] *= scalar\n",
    "    return (I, J, V)\n",
    "\n",
    "sparse_matrix = np.zeros(shape=(2, 3), dtype=np.float64)\n",
    "sparse_matrix[0][0] = 5\n",
    "sparse_matrix[1][2] = 10\n",
    "multiplyMatrixSparseByScalar(toSparseMatrix(A, 2, 3, 2), 2, 2)"
   ]
  },
  {
   "cell_type": "markdown",
   "metadata": {},
   "source": [
    "#### Mnożenie wektor przez skalar"
   ]
  },
  {
   "cell_type": "code",
   "execution_count": 12,
   "metadata": {},
   "outputs": [
    {
     "data": {
      "text/plain": [
       "(array([[0],\n",
       "        [1]], dtype=int8), array([[10.],\n",
       "        [20.]]))"
      ]
     },
     "execution_count": 12,
     "metadata": {},
     "output_type": "execute_result"
    }
   ],
   "source": [
    "def multiplyVectorSparseByScalar(A, nnz, scalar):\n",
    "    (I, V) = A\n",
    "    for i in range(nnz):\n",
    "        V[i] *= scalar\n",
    "    return (I, V)\n",
    "\n",
    "sparse_vector = np.zeros(shape=(4, 1), dtype=np.float64)\n",
    "sparse_vector[0] = 5\n",
    "sparse_vector[1] = 10\n",
    "multiplyVectorSparseByScalar(toSparseVector(sparse_vector, 4, 2), 2, 2)"
   ]
  },
  {
   "cell_type": "markdown",
   "metadata": {},
   "source": [
    "# Iteracyjne rozwiązywanie układów równań liniowych"
   ]
  },
  {
   "cell_type": "markdown",
   "metadata": {},
   "source": [
    "## Zadania:\n",
    "* zadanie wstępne: zaimplementować [metodę Netwona](https://en.wikipedia.org/wiki/Newton%27s_method) znajdywania zer funkcji rzeczywistych\n",
    "* zaimplementować dowolną metodę iteracyjną rozwiązywania układów równań liniowych\n",
    "* przetestować powyższą metodę dla wygenerowanych macierzy (2x2, 3x3, 4x4) i sprawdzić jej poprawność\n",
    "* sprawdzić, jak liczba iteracji wpływa na dokładność wyniku (wykres jest bardzo dogodną reprezentacją tego wyniku)\n",
    "* (*) porównać zbieżność metod: Jacobiego, Gaussa-Seidla, SOR i Conjugate Gradient"
   ]
  },
  {
   "cell_type": "code",
   "execution_count": 18,
   "metadata": {},
   "outputs": [
    {
     "data": {
      "text/plain": [
       "(1.0, 9)"
      ]
     },
     "execution_count": 18,
     "metadata": {},
     "output_type": "execute_result"
    }
   ],
   "source": [
    "def newton(f, fp, x):\n",
    "    x_new = x\n",
    "    x_old = float('inf')\n",
    "    fn = f(x_new)\n",
    "    fo = float('inf')\n",
    "    eps = 1e-14\n",
    "    ctr = 1\n",
    "    while ctr < 100 and abs(x_new - x_old) > eps and (abs(fn - fo) > eps):\n",
    "        x = x_new - f(x_new)/fp(x_new)\n",
    "        x_old = x_new\n",
    "        x_new = x\n",
    "        fo = fn\n",
    "        fn = f(x_new)\n",
    "        ctr += 1\n",
    "    if ctr == 100:\n",
    "        raise ValueError('Failed to converge')\n",
    "    return (x_new, ctr)\n",
    "\n",
    "f = lambda x: x**2 - 1\n",
    "fp = lambda x: x * 2\n",
    "newton(f, fp, 4.4)"
   ]
  },
  {
   "cell_type": "code",
   "execution_count": 3,
   "metadata": {},
   "outputs": [
    {
     "data": {
      "text/plain": [
       "array([2.625, 4.25 , 2.125])"
      ]
     },
     "execution_count": 3,
     "metadata": {},
     "output_type": "execute_result"
    }
   ],
   "source": [
    "def jacobi(A, b, n, it, x = None):\n",
    "    if x is None:\n",
    "        x = np.zeros(A.shape[0])\n",
    "    \n",
    "    D = np.diag(A)\n",
    "    R = A - np.diagflat(D)\n",
    "    \n",
    "    for i in range(it):\n",
    "        x = (b - np.dot(R, x)) / D\n",
    "    return x\n",
    "\n",
    "n = 3\n",
    "A = np.zeros(shape=(n, n))\n",
    "b = np.zeros(n)\n",
    "A[0][0] = 2\n",
    "A[0][1] = -1\n",
    "A[1][0] = -1\n",
    "A[1][1] = 3\n",
    "A[1][2] = -1\n",
    "A[2][1] = -1\n",
    "A[2][2] = 2\n",
    "b[0] = 1\n",
    "b[1] = 8\n",
    "b[2] -5\n",
    "jacobi(A, b, n, 10000)"
   ]
  },
  {
   "cell_type": "code",
   "execution_count": 6,
   "metadata": {},
   "outputs": [
    {
     "data": {
      "text/plain": [
       "[<matplotlib.lines.Line2D at 0x7f134e493208>]"
      ]
     },
     "execution_count": 6,
     "metadata": {},
     "output_type": "execute_result"
    },
    {
     "data": {
      "image/png": "[encoded data removed]",
      "text/plain": [
       "<Figure size 432x288 with 1 Axes>"
      ]
     },
     "metadata": {
      "needs_background": "light"
     },
     "output_type": "display_data"
    }
   ],
   "source": [
    "n = 3\n",
    "A = np.zeros(shape=(n, n))\n",
    "b = np.zeros(n)\n",
    "A[0][0] = 2\n",
    "A[0][1] = -1\n",
    "A[1][0] = -1\n",
    "A[1][1] = 3\n",
    "A[1][2] = -1\n",
    "A[2][1] = -1\n",
    "A[2][2] = 2\n",
    "b[0] = 1\n",
    "b[1] = 8\n",
    "b[2] -5\n",
    "\n",
    "measurements = np.zeros(100)\n",
    "\n",
    "solution = np.array([2.625, 4.25, 2.125])\n",
    "\n",
    "for i in range(100):\n",
    "    result = jacobi(A, b, n, i)\n",
    "    A[0][0] = 2\n",
    "    A[0][1] = -1\n",
    "    A[1][0] = -1\n",
    "    A[1][1] = 3\n",
    "    A[1][2] = -1\n",
    "    A[2][1] = -1\n",
    "    A[2][2] = 2\n",
    "    error = 0\n",
    "    for j in range(3):\n",
    "        error = error + abs(result[j] - solution[j])\n",
    "    measurements[i] = error\n",
    "\n",
    "x = [i for i in range(100)]\n",
    "plt.plot(x, measurements)"
   ]
  }
 ],
 "metadata": {
  "kernelspec": {
   "display_name": "Python 3",
   "language": "python",
   "name": "python3"
  },
  "language_info": {
   "codemirror_mode": {
    "name": "ipython",
    "version": 3
   },
   "file_extension": ".py",
   "mimetype": "text/x-python",
   "name": "python",
   "nbconvert_exporter": "python",
   "pygments_lexer": "ipython3",
   "version": "3.7.2"
  }
 },
 "nbformat": 4,
 "nbformat_minor": 2
}
