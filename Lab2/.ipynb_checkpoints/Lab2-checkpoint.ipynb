{
 "cells": [
  {
   "cell_type": "markdown",
   "metadata": {},
   "source": [
    "# Zadanie 1\n",
    "Napisz w dowolnym języku zwyczajną (wolną) dyskretną transformatę Fouriera."
   ]
  },
  {
   "cell_type": "code",
   "execution_count": 1,
   "metadata": {},
   "outputs": [],
   "source": [
    "import numpy as np\n",
    "def my_DFT(matrix):\n",
    "    matrix = np.asarray(matrix, dtype=float)\n",
    "    N_dim = matrix.shape[0]\n",
    "    n = np.arange(N_dim)\n",
    "    k = n.reshape((N_dim, 1))\n",
    "    res = np.exp(-2j * np.pi * k * n / N_dim)\n",
    "    return np.dot(res, matrix)"
   ]
  },
  {
   "cell_type": "markdown",
   "metadata": {},
   "source": [
    "Sprawdźmy działanie naszej funkcji dla przykładowego wektora i porównajmy ją z wbudowaną w bibliotekę numpy FFT."
   ]
  },
  {
   "cell_type": "code",
   "execution_count": 7,
   "metadata": {},
   "outputs": [
    {
     "name": "stdout",
     "output_type": "stream",
     "text": [
      "[504.84493501 +0.j          -0.63281326 +2.75448402j\n",
      "   3.57869235-14.23833836j ...  -1.85190256 -5.82616852j\n",
      "   3.57869235+14.23833836j  -0.63281326 -2.75448402j]\n",
      "[504.84493501 +0.j          -0.63281326 +2.75448402j\n",
      "   3.57869235-14.23833836j ...  -1.85190256 -5.82616852j\n",
      "   3.57869235+14.23833836j  -0.63281326 -2.75448402j]\n"
     ]
    },
    {
     "data": {
      "text/plain": [
       "True"
      ]
     },
     "execution_count": 7,
     "metadata": {},
     "output_type": "execute_result"
    }
   ],
   "source": [
    "matrix = np.random.random(1024)\n",
    "dft_res = my_DFT(matrix)\n",
    "print(dft_res)\n",
    "fft_res = np.fft.fft(matrix)\n",
    "print(fft_res)\n",
    "np.allclose(dft_res, fft_res)"
   ]
  },
  {
   "cell_type": "markdown",
   "metadata": {},
   "source": [
    "# Zadanie 2\n",
    "Wykorzystaj implementację z zadania 1. do napisania szybkiej wersji transformaty (używając pomysłu z algorytmu Cooleya-Tukeya)."
   ]
  },
  {
   "cell_type": "code",
   "execution_count": 6,
   "metadata": {},
   "outputs": [],
   "source": [
    "def my_FFT(matrix):\n",
    "    matrix = np.asarray(matrix, dtype=float)\n",
    "    N_dim = matrix.shape[0]\n",
    "    \n",
    "    if N_dim % 2 > 0: # FFT działa dla wektorów mających ilość elementów równą potędze liczby 2\n",
    "        raise ValueError(\"Size of x must be a power of 2, but is \", N_dim)\n",
    "    elif N_dim <= 16:\n",
    "        return my_DFT(matrix)\n",
    "    else:\n",
    "        even_elems = my_FFT(matrix[::2])\n",
    "        odd_elems = my_FFT(matrix[1::2])\n",
    "        factor = np.exp(-2j * np.pi * np.arange(N_dim) / N_dim)\n",
    "        return np.concatenate([even_elems + factor[:N_dim // 2] * odd_elems, even_elems + factor[N_dim // 2:] * odd_elems])"
   ]
  },
  {
   "cell_type": "markdown",
   "metadata": {},
   "source": [
    "Jak poprzednio, tak i teraz sprawdźmy wyniki"
   ]
  },
  {
   "cell_type": "code",
   "execution_count": 8,
   "metadata": {},
   "outputs": [
    {
     "name": "stdout",
     "output_type": "stream",
     "text": [
      "[525.12803031+0.j          12.99057134-3.57138202j\n",
      "  14.23100295-3.71862824j ...  -8.91566643+0.21095975j\n",
      "  14.23100295+3.71862824j  12.99057134+3.57138202j]\n",
      "[525.12803031+0.j          12.99057134-3.57138202j\n",
      "  14.23100295-3.71862824j ...  -8.91566643+0.21095975j\n",
      "  14.23100295+3.71862824j  12.99057134+3.57138202j]\n"
     ]
    },
    {
     "data": {
      "text/plain": [
       "True"
      ]
     },
     "execution_count": 8,
     "metadata": {},
     "output_type": "execute_result"
    }
   ],
   "source": [
    "matrix = np.random.random(1024)\n",
    "my_fft_res = my_FFT(matrix)\n",
    "print(my_fft_res)\n",
    "fft_res = np.fft.fft(matrix)\n",
    "print(fft_res)\n",
    "np.allclose(my_fft_res, fft_res)"
   ]
  },
  {
   "cell_type": "markdown",
   "metadata": {},
   "source": [
    "# Zadanie 3\n",
    "\n",
    "Przetestuj implementację z zadania 2. do wykonania analizy szeregu czasowego:\n",
    "1. Znajdź dane przedstawiające jakiś szereg czasowy.\n",
    "2. Załaduj je do programu (polecany: Python + Pandas, ale dowolna metoda jest okej, w tym języki R oraz Julia).\n",
    "3. Zobacz, czy wykonanie analizy Fouriera na tych danych ma sens -- być może trzeba pogrupować je w równe odstępy (zob: funkcja [resample w pakiecie Pandas](https://pandas.pydata.org/pandas-docs/stable/generated/pandas.DataFrame.resample.html)).\n",
    "4. Narysuj wykres częstotliwości i postaraj się opisać jaka jest główna składowa."
   ]
  },
  {
   "cell_type": "code",
   "execution_count": 38,
   "metadata": {},
   "outputs": [],
   "source": [
    "import pandas as pd\n",
    "import matplotlib.pyplot as plt\n",
    "from scipy import fftpack\n",
    "# liczba zatrudnień\n",
    "data = pd.read_csv('jobs.csv', ',', header=None, skiprows=1)\n",
    "data_size = len(data[1])\n",
    "jobs = [data[1][i] for i in range(data_size)]\n",
    "jobs += [0.0 for _ in range(128 - data_size)]\n",
    "x = [i for i in range(128)]\n",
    "\n",
    "jobs_after_FFT = np.fft.fft(x)\n",
    "freqs = [i for i in fftpack.fftfreq(data_size) if i >=0 ]\n"
   ]
  },
  {
   "cell_type": "code",
   "execution_count": 40,
   "metadata": {},
   "outputs": [
    {
     "data": {
      "image/png": "[encoded data removed]",
      "text/plain": [
       "<Figure size 432x288 with 1 Axes>"
      ]
     },
     "metadata": {
      "needs_background": "light"
     },
     "output_type": "display_data"
    }
   ],
   "source": [
    "fig, ax = plt.subplots()\n",
    "ax.stem(freqs[1:], np.abs(jobs_after_FFT)[1:len(freqs)])\n",
    "plt.show()"
   ]
  }
 ],
 "metadata": {
  "kernelspec": {
   "display_name": "Python 3",
   "language": "python",
   "name": "python3"
  },
  "language_info": {
   "codemirror_mode": {
    "name": "ipython",
    "version": 3
   },
   "file_extension": ".py",
   "mimetype": "text/x-python",
   "name": "python",
   "nbconvert_exporter": "python",
   "pygments_lexer": "ipython3",
   "version": "3.7.2"
  }
 },
 "nbformat": 4,
 "nbformat_minor": 2
}
