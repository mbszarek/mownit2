{
 "cells": [
  {
   "cell_type": "markdown",
   "metadata": {},
   "source": [
    "# Zadanie rozgrzewkowe\n",
    "Napisać mnożenie macierzy w ulubionym_\\**_ języku programowania.\n",
    "\n",
    "**Pytanko:** jakie muszą być wymiary mnożonych macierzy? (Który wymiar musi się \"zgadzać\"?)\n",
    "\n",
    "**Zadanko:** Uzupełnić brakujące wymiary macierzy w docstringu (z dokładnością do [\"alfa-konwersji\"](https://pl.wikipedia.org/wiki/Konwersja_α))"
   ]
  },
  {
   "cell_type": "code",
   "execution_count": 2,
   "metadata": {},
   "outputs": [],
   "source": [
    "import numpy as np\n",
    "from typing import Optional, Tuple\n",
    "\n",
    "\n",
    "def agh_superfast_matrix_multiply(a: np.matrix, b: np.matrix) -> np.matrix:\n",
    "    \"\"\"Perform totally ordinary multiplication of matrices.\n",
    "    \n",
    "    :param a: matrix with dimensions x by y\n",
    "    :param b: matrix with dimensions y by z\n",
    "    :return:  matrix with dimensions x by z\n",
    "    \"\"\"\n",
    "    x = a.shape[0]\n",
    "    y = a.shape[1]\n",
    "    z = b.shape[1]\n",
    "    c = np.zeros((x, z))\n",
    "    \n",
    "    for i in range(x):\n",
    "        for j in range(z):\n",
    "            for k in range(y):\n",
    "                c[i, j] += a[i, k] * b[k, j]\n",
    "    return c\n",
    "\n",
    "m1 = np.matrix([[1, 2],\n",
    "                [3, 4],\n",
    "                [4, 5],\n",
    "                [5, 1]])\n",
    "\n",
    "m2 = np.matrix([[1, 2, 3],\n",
    "                [4, 5, 6]])\n",
    "\n",
    "res = agh_superfast_matrix_multiply(m1, m2)\n",
    "assert np.allclose(res, m1 * m2), \"Wrong multiplication result\""
   ]
  },
  {
   "cell_type": "markdown",
   "metadata": {},
   "source": [
    "# Zadanie 1\n",
    "Rozwiązać poniższy układ równań z pivotingiem i bez, porównać wyniki"
   ]
  },
  {
   "cell_type": "code",
   "execution_count": 3,
   "metadata": {},
   "outputs": [],
   "source": [
    "def gauss_non_pivot(a, b):\n",
    "    \"\"\"Perform naive Gauss algorithm to solve system of linear equations\n",
    "    :param a: matrix with dimensions n by n\n",
    "    :param b: matrix with dimensions 1 by n\n",
    "    :return:  matrix with dimensions 1 by n\n",
    "    \"\"\"\n",
    "    n = a.shape[0]\n",
    "    x = np.zeros(n)\n",
    "    \n",
    "    for k in range(n):\n",
    "        for i in range(k + 1, n):\n",
    "            a[i, k] /= a[k, k]\n",
    "            for j in range(k + 1, n):\n",
    "                a[i, j] -= a[i, k] * a[k, j]\n",
    "            b[i] -= a[i, k] * b[k]\n",
    "    x[n - 1] = b[n - 1] / a[n - 1, n - 1]\n",
    "    for i in range(n - 1, -1, -1):\n",
    "        sum = b[i]\n",
    "        for j in range(i + 1, n):\n",
    "            sum -= a[i, j] * x[j]\n",
    "        x[i] = sum / a[i, i]\n",
    "    return np.matrix(x).transpose()"
   ]
  },
  {
   "cell_type": "code",
   "execution_count": 4,
   "metadata": {},
   "outputs": [],
   "source": [
    "A = np.matrix([[0.0001, -5.0300, 5.8090, 7.8320],\n",
    "               [2.2660, 1.9950,  1.2120, 8.0080],\n",
    "               [8.8500, 5.6810,  4.5520, 1.3020],\n",
    "               [6.7750, -2.253,  2.9080, 3.9700]])\n",
    "\n",
    "b = np.matrix([9.5740, 7.2190, 5.7300, 6.2910]).transpose()\n",
    "\n",
    "x1 = np.linalg.solve(A, b)\n",
    "x2 = gauss_non_pivot(A, b)\n",
    "assert np.allclose(x1, x2), \"Wrong multiplication result\""
   ]
  },
  {
   "cell_type": "code",
   "execution_count": 6,
   "metadata": {},
   "outputs": [
    {
     "data": {
      "text/plain": [
       "False"
      ]
     },
     "execution_count": 6,
     "metadata": {},
     "output_type": "execute_result"
    }
   ],
   "source": [
    "np.allclose(np.dot(A, x1), b)"
   ]
  },
  {
   "cell_type": "markdown",
   "metadata": {},
   "source": [
    "# Zadanie 2\n",
    "5. Zaimplementować algorytm faktoryzacji LU macierzy\n",
    "6. (*) Zaimplementować funkcję sprawdzającą, czy dana macierz jest symetryczna i dodatnio określona\n",
    "7. Zaimplementować algorytm faktoryzacji Cholesky'ego macierzy"
   ]
  },
  {
   "cell_type": "code",
   "execution_count": 43,
   "metadata": {},
   "outputs": [],
   "source": [
    "def agh_superfast_lu(a: np.matrix) -> Optional[Tuple[np.matrix, np.matrix]]:\n",
    "    \"\"\"Perform LU decomposition of a matrix.\n",
    "    \n",
    "    :param a: matrix x by x\n",
    "    :return:  tuple of matrices, both x by x dimension\n",
    "    \"\"\"\n",
    "    x = a.shape[0]\n",
    "    u_matrix = np.zeros(shape=(x, x))\n",
    "    l_matrix = np.zeros(shape=(x, x))\n",
    "    for i in range(x):\n",
    "        l_matrix[i, i] = 1\n",
    "        for j in range(i, x):\n",
    "            u_sum = sum([l_matrix[i, k] * u_matrix[k, j] for k in range(i)])\n",
    "            u_matrix[i, j] = a[i, j] - u_sum\n",
    "            \n",
    "        for j in range(i + 1, x):\n",
    "            l_sum = sum([l_matrix[j, k] * u_matrix[k, i] for k in range(i)])\n",
    "            l_matrix[j, i] = (a[j, i] - l_sum) / u_matrix[i, i]\n",
    "    return (l_matrix, u_matrix)\n",
    "\n",
    "def agh_superfast_check_spd(a: np.matrix) -> bool:\n",
    "    \"\"\"Check whether a matrix is symmetric and positive-definite (SPD).\n",
    "    \n",
    "    :param a: matrix\n",
    "    \"\"\"\n",
    "    l_matrix = agh_superfast_cholesky(a)\n",
    "    return np.allclose(agh_superfast_matrix_multiply(l_matrix, l_matrix.transpose()), a)\n",
    "\n",
    "def agh_superfast_cholesky(a: np.matrix) -> Optional[np.matrix]:\n",
    "    \"\"\"Perform a Cholesky decomposition of a matrix.\n",
    "    \n",
    "    :param a: symetric and positive-definite matrix\n",
    "    :return:  decomposed matrix\n",
    "    \"\"\"\n",
    "    x = a.shape[0]\n",
    "    l_matrix = np.zeros(shape=(x, x))\n",
    "    for k in range(x):\n",
    "        l_sum = sum([l_matrix[k, s] * l_matrix[k, s] for s in range(k)])\n",
    "        l_matrix[k, k] = np.sqrt(a[k, k] - l_sum)\n",
    "        for i in range(k + 1, x):\n",
    "            l_sum = sum([l_matrix[i, s] * l_matrix[k, s] for s in range(k)])\n",
    "            l_matrix[i, k] = (a[i, k] - l_sum) / l_matrix[k, k]\n",
    "    return l_matrix"
   ]
  },
  {
   "cell_type": "code",
   "execution_count": 47,
   "metadata": {},
   "outputs": [
    {
     "data": {
      "text/plain": [
       "True"
      ]
     },
     "execution_count": 47,
     "metadata": {},
     "output_type": "execute_result"
    }
   ],
   "source": [
    "A = np.matrix([[25.0, 15.0, -5.0],\n",
    "               [15.0, 18.0,  0.0],\n",
    "               [-5.0, 0.0,  11.0]])\n",
    "x = agh_superfast_cholesky(A)\n",
    "agh_superfast_check_spd(A)"
   ]
  }
 ],
 "metadata": {
  "kernelspec": {
   "display_name": "Python 3",
   "language": "python",
   "name": "python3"
  },
  "language_info": {
   "codemirror_mode": {
    "name": "ipython",
    "version": 3
   },
   "file_extension": ".py",
   "mimetype": "text/x-python",
   "name": "python",
   "nbconvert_exporter": "python",
   "pygments_lexer": "ipython3",
   "version": "3.7.2"
  }
 },
 "nbformat": 4,
 "nbformat_minor": 2
}
